{
 "cells": [
  {
   "cell_type": "code",
   "execution_count": null,
   "id": "8aa42034-233e-4853-8a3f-f25becb98027",
   "metadata": {},
   "outputs": [],
   "source": [
    "import os \n",
    "import re\n",
    "import cv2\n",
    "import numpy as np\n",
    "\n",
    "from PIL import Image\n",
    "from doctr.models import ocr_predictor"
   ]
  },
  {
   "cell_type": "code",
   "execution_count": null,
   "id": "ae2453c3-bcfe-4840-81dd-78e522d3ce20",
   "metadata": {},
   "outputs": [],
   "source": [
    "predictor = ocr_predictor(det_arch='db_resnet50', reco_arch='crnn_vgg16_bn', pretrained=True)"
   ]
  },
  {
   "cell_type": "code",
   "execution_count": null,
   "id": "6e8a3093-e73d-448e-bdb9-ad601be2b901",
   "metadata": {},
   "outputs": [],
   "source": [
    "\n",
    "def generate_tokens_mindee(given_image: Image.Image):\n",
    "    cv_img = cv2.cvtColor(np.array(given_image.copy().convert(\"RGB\")), cv2.COLOR_RGB2BGR)\n",
    "    result = predictor([cv_img])\n",
    "    json_export = result.export()\n",
    "    page_words = [[word for block in page['blocks'] for line in block['lines'] for word in line['words']] for page in\n",
    "                  json_export['pages']]\n",
    "    page_dims = [page['dimensions'] for page in json_export['pages']]\n",
    "\n",
    "    words_abs_coords = [\n",
    "        [[[int(round(word['geometry'][0][0] * dims[1])), int(round(word['geometry'][0][1] * dims[0])),\n",
    "           int(round(word['geometry'][1][0] * dims[1])), int(round(word['geometry'][1][1] * dims[0]))],\n",
    "          word.get('value'), word.get('confidence')] for word in words]\n",
    "        for words, dims in zip(page_words, page_dims)\n",
    "    ]\n",
    "    return words_abs_coords\n",
    "\n"
   ]
  },
  {
   "cell_type": "code",
   "execution_count": null,
   "id": "9ca676c7-743f-48e5-b26a-0523e2c6019c",
   "metadata": {},
   "outputs": [],
   "source": [
    "def process_ocr_output(ocr_output):\n",
    "    n = []\n",
    "    n_plus_1 = []\n",
    "    n_less_1 = []\n",
    "    detected_symbols = []\n",
    "    currency_symbols = ['$', '€', '£', '¥', '₹', '₣', 'AED', 'INR', 'USD', 'CAD', 'OMR', 'QAR', 'SAR','EUR']\n",
    "\n",
    "    for symbol in currency_symbols:\n",
    "        for sublist in ocr_output:\n",
    "            for i, inner_list in enumerate(sublist):\n",
    "                if inner_list[1] == symbol or symbol in inner_list[1]:\n",
    "                    print('inner_list:',inner_list[1])\n",
    "                    print('symbol:',symbol)\n",
    "                    match = re.match(rf\"({symbol})(.*)\", inner_list[1])\n",
    "                    if match is not None:          # It should work when the currency_symbol combined with the value\n",
    "                        currency_symbol = match.group(1)\n",
    "                        numerical_value = match.group(2)\n",
    "                        n.append({'bbox': inner_list[0], 'symbol': currency_symbol, 'value': numerical_value, 'confidence_score': inner_list[2]})\n",
    "                    else:\n",
    "                        n.append({'bbox': inner_list[0], 'symbol': symbol, 'value': None, 'confidence_score': inner_list[2]})\n",
    "                    if i + 1 < len(sublist):\n",
    "                        next_item = sublist[i + 1]\n",
    "                        n_plus_1.append({'bbox': next_item[0], 'value': next_item[1], 'confidence_score': next_item[2]})\n",
    "                    if i - 1 >= 0:\n",
    "                        prev_item = sublist[i - 1]\n",
    "                        n_less_1.append({'bbox': prev_item[0], 'value': prev_item[1], 'confidence_score': prev_item[2]})\n",
    "\n",
    "                    break\n",
    "\n",
    "    return n, n_plus_1, n_less_1\n",
    "\n"
   ]
  },
  {
   "cell_type": "code",
   "execution_count": null,
   "id": "745a6528-303f-4ee3-8777-59b83d097df1",
   "metadata": {},
   "outputs": [],
   "source": [
    "def extract_values(n, n_plus_1, n_less_1):\n",
    "    result_dict = {}\n",
    "    pattern = r'^[$€£¥]?[0-9,.]+$'\n",
    "\n",
    "    if n:\n",
    "        j = n[0]\n",
    "        symbol = j.get('symbol')\n",
    "        result_dict['symbol'] = symbol\n",
    "\n",
    "        if symbol:\n",
    "            if j.get('value') and re.match(pattern, j['value']):\n",
    "                result_dict['n'] = j['value']\n",
    "            elif n_plus_1 and n_plus_1[0].get('value') and re.match(pattern, n_plus_1[0]['value']):\n",
    "                result_dict['n_plus_1'] = n_plus_1[0]['value']\n",
    "            elif n_less_1 and n_less_1[0].get('value') and re.match(pattern, n_less_1[0]['value']):\n",
    "                result_dict['n_less_1'] = n_less_1[0]['value']        \n",
    "\n",
    "    else:\n",
    "        result_dict['symbol'] = None  \n",
    "\n",
    "    return result_dict, result_dict.get('symbol')  \n",
    "\n"
   ]
  },
  {
   "cell_type": "code",
   "execution_count": null,
   "id": "ec748234-3b61-416c-ba2b-597688a082c3",
   "metadata": {},
   "outputs": [],
   "source": [
    "def get_currency_ascii(detected_symbols):\n",
    "    currency_mapping = {\n",
    "        'AED': 'د',\n",
    "        'INR': '₹',\n",
    "        'OMR': '﷼',\n",
    "        'QAR': 'س',\n",
    "        'SAR': 'ق',\n",
    "        'USD': '$',\n",
    "        'CAD': '$',\n",
    "        'EUR': '€',\n",
    "        'EGP': '£',\n",
    "    }\n",
    "    if detected_symbols != \"\":\n",
    "        for currency, symbol in currency_mapping.items():\n",
    "            if detected_symbols == currency or detected_symbols == symbol:\n",
    "                return ord(symbol)\n",
    "\n",
    "    else:\n",
    "        return None\n"
   ]
  },
  {
   "cell_type": "markdown",
   "id": "07b9741b-5322-46e1-ab83-37b952e0d59f",
   "metadata": {},
   "source": [
    "# INFERENCE"
   ]
  },
  {
   "cell_type": "code",
   "execution_count": null,
   "id": "c860129e-8412-443f-8391-fcb3005904ca",
   "metadata": {},
   "outputs": [],
   "source": [
    "input_image = \"\"  #ATTACH YOUR DOCUMENT IMAGE\n",
    "ocr_output = generate_tokens_mindee((Image.open(input_image)))\n",
    "\n",
    "n,n_plus_1,n_less_1 = process_ocr_output(ocr_output)\n",
    "process = extract_values(n,n_plus_1,n_less_1)\n",
    "print('process:', process)\n",
    "ascii_value_ = get_currency_ascii(process[1])\n",
    "print('ascii_value:',ascii_value_)"
   ]
  }
 ],
 "metadata": {
  "kernelspec": {
   "display_name": "Python 3 (ipykernel)",
   "language": "python",
   "name": "python3"
  },
  "language_info": {
   "codemirror_mode": {
    "name": "ipython",
    "version": 3
   },
   "file_extension": ".py",
   "mimetype": "text/x-python",
   "name": "python",
   "nbconvert_exporter": "python",
   "pygments_lexer": "ipython3",
   "version": "3.8.10"
  }
 },
 "nbformat": 4,
 "nbformat_minor": 5
}
